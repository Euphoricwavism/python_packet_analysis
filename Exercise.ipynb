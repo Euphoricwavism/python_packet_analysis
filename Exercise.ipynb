{
 "cells": [
  {
   "cell_type": "markdown",
   "metadata": {},
   "source": [
    "#  エクササイズ(1)へのアプローチ"
   ]
  },
  {
   "cell_type": "code",
   "execution_count": 28,
   "metadata": {
    "collapsed": false
   },
   "outputs": [
    {
     "name": "stdout",
     "output_type": "stream",
     "text": [
      "b'\\x00\\x00\\x00\\x00\\x00\\x00>\\xaa'\n",
      "b'\\x00\\x00\\x00\\x00\\x00\\x00>\\xaa'\n",
      "b'\\x00\\x00\\x00\\x00\\x00\\x01>\\xaa'\n",
      "b'\\x00\\x00\\x00\\x00\\x00\\x01>\\xaa'\n",
      "b'\\x00\\x00\\x00\\x00\\x00\\x02>\\xaa'\n",
      "b'\\x00\\x00\\x00\\x00\\x00\\x02>\\xaa'\n",
      "b'\\x00\\x00\\x00\\x00\\x00\\x03>\\xaa'\n",
      "b'\\x00\\x00\\x00\\x00\\x00\\x03>\\xaa'\n",
      "b'\\x00\\x00\\x00\\x00\\x00\\x04>\\xaa'\n",
      "b'\\x00\\x00\\x00\\x00\\x00\\x04>\\xaa'\n",
      "b'\\x00\\x00\\x00\\x00\\x00\\x05>\\xaa'\n",
      "b'\\x00\\x00\\x00\\x00\\x00\\x05>\\xaa'\n",
      "b'\\x00\\x00\\x00\\x00\\x00\\x06>\\xaa'\n",
      "b'\\x00\\x00\\x00\\x00\\x00\\x06>\\xaa'\n",
      "b'\\x00\\x00\\x00\\x18\\x00\\x07>\\xaaGET /flag1.txt HTTP/1.1\\n'\n",
      "b'\\x00\\x00\\x00\\x18\\x00\\x07>\\xaaGET /flag1.txt HTTP/1.1\\n'\n",
      "b'\\x00\\x00\\x00\\x00\\x00\\x08>\\xaa'\n",
      "b'\\x00\\x00\\x00\\x00\\x00\\x08>\\xaa'\n",
      "b'\\x00\\x00\\x00\\x00\\x00\\t>\\xaa'\n",
      "b'\\x00\\x00\\x00\\x00\\x00\\t>\\xaa'\n",
      "b'\\x00\\x00\\x00\\x00\\x00\\n>\\xaa'\n",
      "b'\\x00\\x00\\x00\\x00\\x00\\n>\\xaa'\n",
      "b'\\x00\\x00\\x00\\x00\\x00\\x0b>\\xaa'\n",
      "b'\\x00\\x00\\x00\\x00\\x00\\x0b>\\xaa'\n",
      "b'\\x00\\x00\\x00\\x00\\x00\\x0c>\\xaa'\n",
      "b'\\x00\\x00\\x00\\x00\\x00\\x0c>\\xaa'\n",
      "b'\\x00\\x00\\x00\\x1a\\x00\\r>\\xaaHost: www.tanakazakku.com\\n'\n",
      "b'\\x00\\x00\\x00\\x1a\\x00\\r>\\xaaHost: www.tanakazakku.com\\n'\n",
      "b'\\x00\\x00\\x00\\x01\\x00\\x0e>\\xaa\\n\\x00'\n",
      "b'\\x00\\x00\\x00\\x01\\x00\\x0e>\\xaa\\n\\x00'\n",
      "b'/1.1 200 OK\\r\\nDate: Thu, 19 Jul 2018 03:10:26 GMT\\r\\nServer: Apache\\r\\nLast-Modified: Tue, 17 Jul 2018 07:23:33 GMT\\r\\nETag: \"14-5712cd2df612c\"\\r\\nAccept-Ranges: bytes\\r\\nContent-Length: 20\\r\\nContent-Type: text/plain\\r\\n\\r\\nFlag1{Y0kuYattaa!!!}'\n",
      "b'\\x00\\x00\\x00\\x00\\x00\\x0f>\\xaa'\n",
      "b'\\x00\\x00\\x00\\x00\\x00\\x0f>\\xaa'\n",
      "b'\\x00\\x00\\x00\\x00\\x00\\x10>\\xaa'\n",
      "b'\\x00\\x00\\x00\\x00\\x00\\x10>\\xaa'\n",
      "b'\\x00\\x00\\x00\\x00\\x00\\x11>\\xaa'\n",
      "b'\\x00\\x00\\x00\\x00\\x00\\x11>\\xaa'\n",
      "b'\\x00\\x00\\x00\\x00\\x00\\x12>\\xaa'\n",
      "b'\\x00\\x00\\x00\\x00\\x00\\x12>\\xaa'\n",
      "b'\\x00\\x00\\x00\\x00\\x00\\x13>\\xaa'\n",
      "b'\\x00\\x00\\x00\\x00\\x00\\x13>\\xaa'\n"
     ]
    }
   ],
   "source": [
    "from scapy.all import *\n",
    "\n",
    "packets = rdpcap(\"./ptunnel.pcap\")\n",
    "\n",
    "for packet in packets:\n",
    "    if packet.getlayer(ICMP):\n",
    "        raw = IP()/TCP(packet[Raw])\n",
    "        if raw.getlayer(Raw):\n",
    "            print(raw.load)"
   ]
  },
  {
   "cell_type": "markdown",
   "metadata": {},
   "source": [
    "# エクササイズ(2)へのアプローチ"
   ]
  },
  {
   "cell_type": "code",
   "execution_count": 10,
   "metadata": {
    "collapsed": false
   },
   "outputs": [
    {
     "ename": "ValueError",
     "evalue": "chr() arg not in range(0x110000)",
     "output_type": "error",
     "traceback": [
      "\u001b[0;31m---------------------------------------------------------------------------\u001b[0m",
      "\u001b[0;31mValueError\u001b[0m                                Traceback (most recent call last)",
      "\u001b[0;32m<ipython-input-10-b9b63a82989b>\u001b[0m in \u001b[0;36m<module>\u001b[0;34m()\u001b[0m\n\u001b[1;32m      6\u001b[0m \u001b[0;32mfor\u001b[0m \u001b[0mone\u001b[0m \u001b[0;32min\u001b[0m \u001b[0mpcap\u001b[0m\u001b[0;34m:\u001b[0m\u001b[0;34m\u001b[0m\u001b[0m\n\u001b[1;32m      7\u001b[0m     \u001b[0;32mif\u001b[0m \u001b[0mone\u001b[0m\u001b[0;34m[\u001b[0m\u001b[0mTCP\u001b[0m\u001b[0;34m]\u001b[0m\u001b[0;34m.\u001b[0m\u001b[0mflags\u001b[0m \u001b[0;34m==\u001b[0m \u001b[0;34m\"S\"\u001b[0m\u001b[0;34m:\u001b[0m\u001b[0;34m\u001b[0m\u001b[0m\n\u001b[0;32m----> 8\u001b[0;31m         \u001b[0mprint\u001b[0m\u001b[0;34m(\u001b[0m\u001b[0mchr\u001b[0m\u001b[0;34m(\u001b[0m\u001b[0mone\u001b[0m\u001b[0;34m[\u001b[0m\u001b[0mIP\u001b[0m\u001b[0;34m]\u001b[0m\u001b[0;34m.\u001b[0m\u001b[0mtos\u001b[0m \u001b[0;34m-\u001b[0m \u001b[0mone\u001b[0m\u001b[0;34m[\u001b[0m\u001b[0mIP\u001b[0m\u001b[0;34m]\u001b[0m\u001b[0;34m.\u001b[0m\u001b[0mid\u001b[0m\u001b[0;34m)\u001b[0m\u001b[0;34m)\u001b[0m\u001b[0;34m\u001b[0m\u001b[0m\n\u001b[0m",
      "\u001b[0;31mValueError\u001b[0m: chr() arg not in range(0x110000)"
     ]
    }
   ],
   "source": [
    "from scapy.all import *\n",
    "\n",
    "pcap = rdpcap(\"./tcp-covert.pcap\")\n",
    "\n",
    "flag = \"\"\n",
    "for one in pcap:\n",
    "    if one[TCP].flags == \"S\":\n",
    "        print(chr(one[IP].tos - one[IP].id))\n"
   ]
  },
  {
   "cell_type": "code",
   "execution_count": 11,
   "metadata": {
    "collapsed": false
   },
   "outputs": [
    {
     "name": "stdout",
     "output_type": "stream",
     "text": [
      "-2220\n",
      "-2485\n",
      "-2727\n",
      "-2977\n",
      "-3250\n",
      "-3497\n",
      "-3793\n",
      "-4002\n",
      "-4262\n",
      "-4512\n",
      "-4771\n",
      "-5035\n",
      "-5323\n",
      "-5532\n",
      "-5786\n",
      "-6088\n",
      "-6310\n",
      "-6557\n",
      "-6810\n",
      "-7061\n",
      "-7311\n",
      "-7571\n",
      "-7839\n",
      "-8095\n",
      "-8405\n",
      "-8549\n",
      "-8828\n",
      "-9071\n",
      "-9338\n",
      "-9658\n",
      "-9829\n",
      "-10089\n",
      "-10423\n",
      "-10605\n",
      "-10864\n",
      "-11122\n",
      "-11378\n",
      "-11698\n",
      "-11869\n",
      "-12143\n",
      "-12388\n",
      "-12702\n",
      "-12884\n",
      "-13163\n",
      "-13408\n",
      "-13665\n",
      "-14015\n"
     ]
    }
   ],
   "source": [
    "from scapy.all import *\n",
    "\n",
    "pcap = rdpcap(\"./tcp-covert.pcap\")\n",
    "\n",
    "flag = \"\"\n",
    "for one in pcap:\n",
    "    if one[TCP].flags == \"S\":\n",
    "        print(one[IP].tos - one[IP].id)\n"
   ]
  },
  {
   "cell_type": "code",
   "execution_count": 12,
   "metadata": {
    "collapsed": false,
    "scrolled": true
   },
   "outputs": [
    {
     "name": "stdout",
     "output_type": "stream",
     "text": [
      "84\n",
      "2304\n",
      "75\n",
      "2560\n",
      "89\n",
      "2816\n",
      "95\n",
      "3072\n",
      "78\n",
      "3328\n",
      "87\n",
      "3584\n",
      "47\n",
      "3840\n",
      "94\n",
      "4096\n",
      "90\n",
      "4352\n",
      "96\n",
      "4608\n",
      "93\n",
      "4864\n",
      "85\n",
      "5120\n",
      "53\n",
      "5376\n",
      "100\n",
      "5632\n",
      "102\n",
      "5888\n",
      "56\n",
      "6144\n",
      "90\n",
      "6400\n",
      "99\n",
      "6656\n",
      "102\n",
      "6912\n",
      "107\n",
      "7168\n",
      "113\n",
      "7424\n",
      "109\n",
      "7680\n",
      "97\n",
      "7936\n",
      "97\n",
      "8192\n",
      "43\n",
      "8448\n",
      "155\n",
      "8704\n",
      "132\n",
      "8960\n",
      "145\n",
      "9216\n",
      "134\n",
      "9472\n",
      "70\n",
      "9728\n",
      "155\n",
      "9984\n",
      "151\n",
      "10240\n",
      "73\n",
      "10496\n",
      "147\n",
      "10752\n",
      "144\n",
      "11008\n",
      "142\n",
      "11264\n",
      "142\n",
      "11520\n",
      "78\n",
      "11776\n",
      "163\n",
      "12032\n",
      "145\n",
      "12288\n",
      "156\n",
      "12544\n",
      "98\n",
      "12800\n",
      "172\n",
      "13056\n",
      "149\n",
      "13312\n",
      "160\n",
      "13568\n",
      "159\n",
      "13824\n",
      "65\n",
      "14080\n"
     ]
    }
   ],
   "source": [
    "from scapy.all import *\n",
    "\n",
    "pcap = rdpcap(\"./tcp-covert.pcap\")\n",
    "\n",
    "for one in pcap:\n",
    "    if one[TCP].flags == \"S\":\n",
    "        print(one[IP].tos)\n",
    "        print(one[IP].id)\n"
   ]
  },
  {
   "cell_type": "code",
   "execution_count": 13,
   "metadata": {
    "collapsed": false
   },
   "outputs": [
    {
     "name": "stdout",
     "output_type": "stream",
     "text": [
      "0x900\n",
      "0xa00\n",
      "0xb00\n",
      "0xc00\n",
      "0xd00\n",
      "0xe00\n",
      "0xf00\n",
      "0x1000\n",
      "0x1100\n",
      "0x1200\n",
      "0x1300\n",
      "0x1400\n",
      "0x1500\n",
      "0x1600\n",
      "0x1700\n",
      "0x1800\n",
      "0x1900\n",
      "0x1a00\n",
      "0x1b00\n",
      "0x1c00\n",
      "0x1d00\n",
      "0x1e00\n",
      "0x1f00\n",
      "0x2000\n",
      "0x2100\n",
      "0x2200\n",
      "0x2300\n",
      "0x2400\n",
      "0x2500\n",
      "0x2600\n",
      "0x2700\n",
      "0x2800\n",
      "0x2900\n",
      "0x2a00\n",
      "0x2b00\n",
      "0x2c00\n",
      "0x2d00\n",
      "0x2e00\n",
      "0x2f00\n",
      "0x3000\n",
      "0x3100\n",
      "0x3200\n",
      "0x3300\n",
      "0x3400\n",
      "0x3500\n",
      "0x3600\n",
      "0x3700\n"
     ]
    }
   ],
   "source": [
    "from scapy.all import *\n",
    "\n",
    "pcap = rdpcap(\"./tcp-covert.pcap\")\n",
    "\n",
    "for one in pcap:\n",
    "    if one[TCP].flags == \"S\":\n",
    "        print(hex(one[IP].id))\n"
   ]
  },
  {
   "cell_type": "code",
   "execution_count": 14,
   "metadata": {
    "collapsed": false
   },
   "outputs": [
    {
     "name": "stdout",
     "output_type": "stream",
     "text": [
      "9\n",
      "10\n",
      "11\n",
      "12\n",
      "13\n",
      "14\n",
      "15\n",
      "16\n",
      "17\n",
      "18\n",
      "19\n",
      "20\n",
      "21\n",
      "22\n",
      "23\n",
      "24\n",
      "25\n",
      "26\n",
      "27\n",
      "28\n",
      "29\n",
      "30\n",
      "31\n",
      "32\n",
      "33\n",
      "34\n",
      "35\n",
      "36\n",
      "37\n",
      "38\n",
      "39\n",
      "40\n",
      "41\n",
      "42\n",
      "43\n",
      "44\n",
      "45\n",
      "46\n",
      "47\n",
      "48\n",
      "49\n",
      "50\n",
      "51\n",
      "52\n",
      "53\n",
      "54\n",
      "55\n"
     ]
    }
   ],
   "source": [
    "from scapy.all import *\n",
    "\n",
    "pcap = rdpcap(\"./tcp-covert.pcap\")\n",
    "\n",
    "for one in pcap:\n",
    "    if one[TCP].flags == \"S\":\n",
    "        print(one[IP].id >> 8)"
   ]
  },
  {
   "cell_type": "code",
   "execution_count": 15,
   "metadata": {
    "collapsed": false
   },
   "outputs": [
    {
     "name": "stdout",
     "output_type": "stream",
     "text": [
      "K\n",
      "A\n",
      "N\n",
      "S\n",
      "A\n",
      "I\n",
      " \n",
      "N\n",
      "I\n",
      "N\n",
      "J\n",
      "A\n",
      " \n",
      "N\n",
      "O\n",
      " \n",
      "A\n",
      "I\n",
      "K\n",
      "O\n",
      "T\n",
      "O\n",
      "B\n",
      "A\n",
      "\n",
      "\n",
      "y\n",
      "a\n",
      "m\n",
      "a\n",
      " \n",
      "t\n",
      "o\n",
      " \n",
      "i\n",
      "e\n",
      "b\n",
      "a\n",
      " \n",
      "t\n",
      "a\n",
      "k\n",
      "0\n",
      "y\n",
      "a\n",
      "k\n",
      "i\n",
      "\n",
      "\n"
     ]
    }
   ],
   "source": [
    "from scapy.all import *\n",
    "\n",
    "pcap = rdpcap(\"./tcp-covert.pcap\")\n",
    "\n",
    "for one in pcap:\n",
    "    if one[TCP].flags == \"S\":\n",
    "        print(chr(one[IP].tos - (one[IP].id >> 8)))\n",
    "        "
   ]
  },
  {
   "cell_type": "code",
   "execution_count": 16,
   "metadata": {
    "collapsed": false
   },
   "outputs": [
    {
     "name": "stdout",
     "output_type": "stream",
     "text": [
      "KANSAI NINJA NO AIKOTOBA\n",
      "yama to ieba tak0yaki\n",
      "\n"
     ]
    }
   ],
   "source": [
    "from scapy.all import *\n",
    "\n",
    "pcap = rdpcap(\"./tcp-covert.pcap\")\n",
    "\n",
    "flag = \"\"\n",
    "for one in pcap:\n",
    "    if one[TCP].flags == \"S\":\n",
    "        flag += chr(one[IP].tos - (one[IP].id >> 8))\n",
    "\n",
    "print(flag)"
   ]
  },
  {
   "cell_type": "code",
   "execution_count": null,
   "metadata": {
    "collapsed": true
   },
   "outputs": [],
   "source": []
  }
 ],
 "metadata": {
  "kernelspec": {
   "display_name": "Python 3",
   "language": "python",
   "name": "python3"
  },
  "language_info": {
   "codemirror_mode": {
    "name": "ipython",
    "version": 3
   },
   "file_extension": ".py",
   "mimetype": "text/x-python",
   "name": "python",
   "nbconvert_exporter": "python",
   "pygments_lexer": "ipython3",
   "version": "3.5.1"
  },
  "nav_menu": {},
  "toc": {
   "navigate_menu": true,
   "number_sections": true,
   "sideBar": true,
   "threshold": 6,
   "toc_cell": false,
   "toc_section_display": "block",
   "toc_window_display": false
  }
 },
 "nbformat": 4,
 "nbformat_minor": 2
}
